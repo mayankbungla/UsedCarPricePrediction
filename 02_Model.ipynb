{
 "cells": [
  {
   "cell_type": "markdown",
   "id": "6768a296",
   "metadata": {
    "ExecuteTime": {
     "end_time": "2024-04-15T19:51:03.482318Z",
     "start_time": "2024-04-15T19:50:59.632665Z"
    }
   },
   "source": [
    "**Libraries**"
   ]
  },
  {
   "cell_type": "code",
   "execution_count": 1,
   "id": "c244a694",
   "metadata": {
    "ExecuteTime": {
     "end_time": "2024-04-16T10:47:05.471613Z",
     "start_time": "2024-04-16T10:47:02.276094Z"
    }
   },
   "outputs": [],
   "source": [
    "# Necesssary libraries\n",
    "\n",
    "import pandas as pd\n",
    "import numpy as np\n",
    "from sklearn.model_selection import train_test_split, cross_val_score, KFold\n",
    "from sklearn.preprocessing import StandardScaler\n",
    "from sklearn.linear_model import LinearRegression, Ridge, Lasso\n",
    "from sklearn.tree import DecisionTreeRegressor\n",
    "from sklearn.ensemble import RandomForestRegressor, GradientBoostingRegressor, AdaBoostRegressor\n",
    "from sklearn.metrics import mean_absolute_error, mean_squared_error,median_absolute_error, r2_score\n",
    "from xgboost import XGBRegressor\n",
    "from sklearn.neighbors import KNeighborsRegressor\n",
    "from sklearn.svm import SVR\n",
    "from sklearn.pipeline import Pipeline\n",
    "from sklearn.model_selection import GridSearchCV\n",
    "import warnings\n",
    "warnings.filterwarnings('ignore')\n",
    "import matplotlib.pyplot as plt\n",
    "import seaborn as sns\n",
    "import pickle"
   ]
  },
  {
   "cell_type": "code",
   "execution_count": 2,
   "id": "7d91f3a0",
   "metadata": {
    "ExecuteTime": {
     "end_time": "2024-04-16T10:47:06.018908Z",
     "start_time": "2024-04-16T10:47:05.471613Z"
    }
   },
   "outputs": [],
   "source": [
    "# Loading Dataset\n",
    "df = pd.read_csv('encoded_data.csv')"
   ]
  },
  {
   "cell_type": "markdown",
   "id": "3e469387",
   "metadata": {},
   "source": [
    "**Sample For Testing Models**"
   ]
  },
  {
   "cell_type": "code",
   "execution_count": 3,
   "id": "8796a64d",
   "metadata": {
    "ExecuteTime": {
     "end_time": "2024-04-16T10:47:06.060068Z",
     "start_time": "2024-04-16T10:47:06.018908Z"
    }
   },
   "outputs": [],
   "source": [
    "df1 = df.sample(n=50000 , random_state= 202)"
   ]
  },
  {
   "cell_type": "markdown",
   "id": "5fbb63dd",
   "metadata": {},
   "source": [
    "**Split**"
   ]
  },
  {
   "cell_type": "code",
   "execution_count": 4,
   "id": "4ff2a7da",
   "metadata": {
    "ExecuteTime": {
     "end_time": "2024-04-16T10:47:06.089860Z",
     "start_time": "2024-04-16T10:47:06.070804Z"
    }
   },
   "outputs": [],
   "source": [
    "X_sample = df1.drop(columns=['price'],axis=1)\n",
    "y_sample= df1['price']"
   ]
  },
  {
   "cell_type": "code",
   "execution_count": 5,
   "id": "dd47a783",
   "metadata": {
    "ExecuteTime": {
     "end_time": "2024-04-16T10:47:06.131447Z",
     "start_time": "2024-04-16T10:47:06.097966Z"
    }
   },
   "outputs": [],
   "source": [
    "# Train test split\n",
    "X_train_sample, X_test_sample, y_train_sample, y_test_sample = train_test_split(X_sample, y_sample, \n",
    "                                                                                test_size=0.2, random_state=42)"
   ]
  },
  {
   "cell_type": "markdown",
   "id": "60358673",
   "metadata": {},
   "source": [
    "### Testing models"
   ]
  },
  {
   "cell_type": "code",
   "execution_count": 6,
   "id": "ecd4e29f",
   "metadata": {
    "ExecuteTime": {
     "end_time": "2024-04-16T10:47:06.154870Z",
     "start_time": "2024-04-16T10:47:06.142882Z"
    }
   },
   "outputs": [],
   "source": [
    "models = {\n",
    "    'Linear Regression': LinearRegression(),\n",
    "    'Ridge Regression': Ridge(),\n",
    "    'Lasso Regression': Lasso(),\n",
    "    'Decision Tree': DecisionTreeRegressor(),\n",
    "    'Random Forest': RandomForestRegressor(),\n",
    "    'Gradient Boosting': GradientBoostingRegressor(),\n",
    "    'XGBoost': XGBRegressor(),\n",
    "    'AdaBoost': AdaBoostRegressor(),\n",
    "    'Support Vector Machine': SVR(),\n",
    "    'K-Nearest Neighbors': KNeighborsRegressor()\n",
    "}"
   ]
  },
  {
   "cell_type": "code",
   "execution_count": 7,
   "id": "b746f4e7",
   "metadata": {
    "ExecuteTime": {
     "end_time": "2024-04-16T11:09:23.353551Z",
     "start_time": "2024-04-16T10:47:06.159498Z"
    }
   },
   "outputs": [],
   "source": [
    "# empty list to store evaluation metrics\n",
    "evaluation_metrics = []\n",
    "\n",
    "# initialize k-fold\n",
    "kf = KFold(n_splits=5)\n",
    "\n",
    "# Evaluate models\n",
    "for name, model in models.items():\n",
    "    mae_scores = cross_val_score(model, X_train_sample, y_train_sample, scoring='neg_mean_absolute_error', cv=kf)\n",
    "    mse_scores = cross_val_score(model, X_train_sample, y_train_sample, scoring='neg_mean_squared_error', cv=kf)\n",
    "    \n",
    "    # Convert negative scores to positive\n",
    "    mae = -mae_scores.mean()\n",
    "    mse = -mse_scores.mean()\n",
    "    \n",
    "    # Calculate RMSE and R2 \n",
    "    rmse = np.sqrt(mse)\n",
    "    r2 = 1 - (mse / np.var(y_test_sample))\n",
    "    \n",
    "    # Calculate adjusted R2\n",
    "    n = len(X_train_sample)\n",
    "    p = X_train_sample.shape[1]\n",
    "    adjusted_r2 = 1 - ((1 - r2) * (n - 1) / (n - p - 1))\n",
    "    \n",
    "    # Append evaluation metrics to the list\n",
    "    evaluation_metrics.append({'Model': name, 'MAE': mae, 'MSE': mse, 'RMSE': rmse, 'R2': r2, 'Adjusted R2': adjusted_r2})"
   ]
  },
  {
   "cell_type": "code",
   "execution_count": 8,
   "id": "5bdd3ea0",
   "metadata": {
    "ExecuteTime": {
     "end_time": "2024-04-16T11:09:23.536718Z",
     "start_time": "2024-04-16T11:09:23.394364Z"
    }
   },
   "outputs": [],
   "source": [
    "# Result to dataframe\n",
    "output = pd.DataFrame(evaluation_metrics)\n",
    "output = output.sort_values(by='R2', ascending=False)"
   ]
  },
  {
   "cell_type": "code",
   "execution_count": 9,
   "id": "43106230",
   "metadata": {
    "ExecuteTime": {
     "end_time": "2024-04-16T11:09:23.651250Z",
     "start_time": "2024-04-16T11:09:23.537309Z"
    }
   },
   "outputs": [
    {
     "data": {
      "text/html": [
       "<div>\n",
       "<style scoped>\n",
       "    .dataframe tbody tr th:only-of-type {\n",
       "        vertical-align: middle;\n",
       "    }\n",
       "\n",
       "    .dataframe tbody tr th {\n",
       "        vertical-align: top;\n",
       "    }\n",
       "\n",
       "    .dataframe thead th {\n",
       "        text-align: right;\n",
       "    }\n",
       "</style>\n",
       "<table border=\"1\" class=\"dataframe\">\n",
       "  <thead>\n",
       "    <tr style=\"text-align: right;\">\n",
       "      <th></th>\n",
       "      <th>Model</th>\n",
       "      <th>MAE</th>\n",
       "      <th>MSE</th>\n",
       "      <th>RMSE</th>\n",
       "      <th>R2</th>\n",
       "      <th>Adjusted R2</th>\n",
       "    </tr>\n",
       "  </thead>\n",
       "  <tbody>\n",
       "    <tr>\n",
       "      <th>6</th>\n",
       "      <td>XGBoost</td>\n",
       "      <td>1056.481067</td>\n",
       "      <td>2.754321e+06</td>\n",
       "      <td>1659.614831</td>\n",
       "      <td>0.875355</td>\n",
       "      <td>0.875324</td>\n",
       "    </tr>\n",
       "    <tr>\n",
       "      <th>4</th>\n",
       "      <td>Random Forest</td>\n",
       "      <td>1101.249358</td>\n",
       "      <td>2.922887e+06</td>\n",
       "      <td>1709.645184</td>\n",
       "      <td>0.867727</td>\n",
       "      <td>0.867693</td>\n",
       "    </tr>\n",
       "    <tr>\n",
       "      <th>5</th>\n",
       "      <td>Gradient Boosting</td>\n",
       "      <td>1184.060462</td>\n",
       "      <td>3.230598e+06</td>\n",
       "      <td>1797.386425</td>\n",
       "      <td>0.853801</td>\n",
       "      <td>0.853765</td>\n",
       "    </tr>\n",
       "    <tr>\n",
       "      <th>3</th>\n",
       "      <td>Decision Tree</td>\n",
       "      <td>1481.135150</td>\n",
       "      <td>5.397476e+06</td>\n",
       "      <td>2323.246815</td>\n",
       "      <td>0.755740</td>\n",
       "      <td>0.755679</td>\n",
       "    </tr>\n",
       "    <tr>\n",
       "      <th>1</th>\n",
       "      <td>Ridge Regression</td>\n",
       "      <td>1858.937313</td>\n",
       "      <td>6.474073e+06</td>\n",
       "      <td>2544.419989</td>\n",
       "      <td>0.707020</td>\n",
       "      <td>0.706946</td>\n",
       "    </tr>\n",
       "    <tr>\n",
       "      <th>0</th>\n",
       "      <td>Linear Regression</td>\n",
       "      <td>1858.942599</td>\n",
       "      <td>6.474073e+06</td>\n",
       "      <td>2544.420044</td>\n",
       "      <td>0.707020</td>\n",
       "      <td>0.706946</td>\n",
       "    </tr>\n",
       "    <tr>\n",
       "      <th>2</th>\n",
       "      <td>Lasso Regression</td>\n",
       "      <td>1858.875100</td>\n",
       "      <td>6.474090e+06</td>\n",
       "      <td>2544.423402</td>\n",
       "      <td>0.707019</td>\n",
       "      <td>0.706946</td>\n",
       "    </tr>\n",
       "    <tr>\n",
       "      <th>7</th>\n",
       "      <td>AdaBoost</td>\n",
       "      <td>2346.771979</td>\n",
       "      <td>8.375879e+06</td>\n",
       "      <td>2894.111089</td>\n",
       "      <td>0.620955</td>\n",
       "      <td>0.620860</td>\n",
       "    </tr>\n",
       "    <tr>\n",
       "      <th>9</th>\n",
       "      <td>K-Nearest Neighbors</td>\n",
       "      <td>2566.444960</td>\n",
       "      <td>1.275465e+07</td>\n",
       "      <td>3571.365906</td>\n",
       "      <td>0.422796</td>\n",
       "      <td>0.422651</td>\n",
       "    </tr>\n",
       "    <tr>\n",
       "      <th>8</th>\n",
       "      <td>Support Vector Machine</td>\n",
       "      <td>3458.101651</td>\n",
       "      <td>2.349340e+07</td>\n",
       "      <td>4846.999381</td>\n",
       "      <td>-0.063180</td>\n",
       "      <td>-0.063446</td>\n",
       "    </tr>\n",
       "  </tbody>\n",
       "</table>\n",
       "</div>"
      ],
      "text/plain": [
       "                    Model          MAE           MSE         RMSE        R2  \\\n",
       "6                 XGBoost  1056.481067  2.754321e+06  1659.614831  0.875355   \n",
       "4           Random Forest  1101.249358  2.922887e+06  1709.645184  0.867727   \n",
       "5       Gradient Boosting  1184.060462  3.230598e+06  1797.386425  0.853801   \n",
       "3           Decision Tree  1481.135150  5.397476e+06  2323.246815  0.755740   \n",
       "1        Ridge Regression  1858.937313  6.474073e+06  2544.419989  0.707020   \n",
       "0       Linear Regression  1858.942599  6.474073e+06  2544.420044  0.707020   \n",
       "2        Lasso Regression  1858.875100  6.474090e+06  2544.423402  0.707019   \n",
       "7                AdaBoost  2346.771979  8.375879e+06  2894.111089  0.620955   \n",
       "9     K-Nearest Neighbors  2566.444960  1.275465e+07  3571.365906  0.422796   \n",
       "8  Support Vector Machine  3458.101651  2.349340e+07  4846.999381 -0.063180   \n",
       "\n",
       "   Adjusted R2  \n",
       "6     0.875324  \n",
       "4     0.867693  \n",
       "5     0.853765  \n",
       "3     0.755679  \n",
       "1     0.706946  \n",
       "0     0.706946  \n",
       "2     0.706946  \n",
       "7     0.620860  \n",
       "9     0.422651  \n",
       "8    -0.063446  "
      ]
     },
     "execution_count": 9,
     "metadata": {},
     "output_type": "execute_result"
    }
   ],
   "source": [
    "output"
   ]
  },
  {
   "cell_type": "markdown",
   "id": "285b5d74",
   "metadata": {},
   "source": [
    "**XGBoost** is Providing the best results"
   ]
  },
  {
   "cell_type": "markdown",
   "id": "30affdf5",
   "metadata": {},
   "source": [
    "### Hyperparameter Tuning"
   ]
  },
  {
   "cell_type": "code",
   "execution_count": 10,
   "id": "3dcdbaab",
   "metadata": {
    "ExecuteTime": {
     "end_time": "2024-04-16T11:09:23.758158Z",
     "start_time": "2024-04-16T11:09:23.655762Z"
    }
   },
   "outputs": [],
   "source": [
    "X = df.drop(columns=['price'],axis=1)\n",
    "y= df['price']"
   ]
  },
  {
   "cell_type": "code",
   "execution_count": 11,
   "id": "10b0ccbd",
   "metadata": {
    "ExecuteTime": {
     "end_time": "2024-04-16T11:09:23.829883Z",
     "start_time": "2024-04-16T11:09:23.758158Z"
    }
   },
   "outputs": [],
   "source": [
    "# Train test split\n",
    "X_train, X_test, y_train, y_test = train_test_split(X, y, test_size=0.2, random_state=69)"
   ]
  },
  {
   "cell_type": "code",
   "execution_count": 12,
   "id": "9ff2f2c6",
   "metadata": {
    "ExecuteTime": {
     "end_time": "2024-04-16T11:09:23.931904Z",
     "start_time": "2024-04-16T11:09:23.833217Z"
    }
   },
   "outputs": [],
   "source": [
    "# Standardize X_train & X_test\n",
    "scaler = StandardScaler()\n",
    "X_train_scaled = scaler.fit_transform(X_train)\n",
    "X_test_scaled = scaler.transform(X_test)"
   ]
  },
  {
   "cell_type": "code",
   "execution_count": 13,
   "id": "019b5c4e",
   "metadata": {
    "ExecuteTime": {
     "end_time": "2024-04-16T11:09:23.942583Z",
     "start_time": "2024-04-16T11:09:23.933217Z"
    }
   },
   "outputs": [],
   "source": [
    "param_grid_xgb = {\n",
    "    'regressor_xgb__n_estimators': [200, 400 ,600,800,1000],  \n",
    "    'regressor_xgb__max_depth': [ 3, 5, 7 , 9],  \n",
    "    'regressor_xgb__learning_rate': [0.01,0.05, 0.1]\n",
    "}"
   ]
  },
  {
   "cell_type": "code",
   "execution_count": 14,
   "id": "d1079c8f",
   "metadata": {
    "ExecuteTime": {
     "end_time": "2024-04-16T11:09:23.967075Z",
     "start_time": "2024-04-16T11:09:23.949763Z"
    }
   },
   "outputs": [],
   "source": [
    "pipeline_xgb = Pipeline([('regressor_xgb', XGBRegressor())])"
   ]
  },
  {
   "cell_type": "code",
   "execution_count": 15,
   "id": "cbe6ebe9",
   "metadata": {
    "ExecuteTime": {
     "end_time": "2024-04-16T11:09:23.980720Z",
     "start_time": "2024-04-16T11:09:23.967075Z"
    }
   },
   "outputs": [],
   "source": [
    "kfold = KFold(n_splits=5, shuffle=True, random_state=42)"
   ]
  },
  {
   "cell_type": "code",
   "execution_count": 16,
   "id": "4c4c3602",
   "metadata": {
    "ExecuteTime": {
     "end_time": "2024-04-16T11:09:23.994256Z",
     "start_time": "2024-04-16T11:09:23.983181Z"
    }
   },
   "outputs": [],
   "source": [
    "# Perform GridSearchCV for XGBRegressor\n",
    "search_xgb = GridSearchCV(pipeline_xgb, param_grid_xgb, cv=5, scoring='r2', n_jobs=-1, verbose=4)"
   ]
  },
  {
   "cell_type": "code",
   "execution_count": 17,
   "id": "2213c3f4",
   "metadata": {
    "ExecuteTime": {
     "end_time": "2024-04-16T11:33:55.414131Z",
     "start_time": "2024-04-16T11:09:23.994256Z"
    }
   },
   "outputs": [
    {
     "name": "stdout",
     "output_type": "stream",
     "text": [
      "Fitting 5 folds for each of 60 candidates, totalling 300 fits\n"
     ]
    },
    {
     "data": {
      "text/html": [
       "<style>#sk-container-id-1 {color: black;background-color: white;}#sk-container-id-1 pre{padding: 0;}#sk-container-id-1 div.sk-toggleable {background-color: white;}#sk-container-id-1 label.sk-toggleable__label {cursor: pointer;display: block;width: 100%;margin-bottom: 0;padding: 0.3em;box-sizing: border-box;text-align: center;}#sk-container-id-1 label.sk-toggleable__label-arrow:before {content: \"▸\";float: left;margin-right: 0.25em;color: #696969;}#sk-container-id-1 label.sk-toggleable__label-arrow:hover:before {color: black;}#sk-container-id-1 div.sk-estimator:hover label.sk-toggleable__label-arrow:before {color: black;}#sk-container-id-1 div.sk-toggleable__content {max-height: 0;max-width: 0;overflow: hidden;text-align: left;background-color: #f0f8ff;}#sk-container-id-1 div.sk-toggleable__content pre {margin: 0.2em;color: black;border-radius: 0.25em;background-color: #f0f8ff;}#sk-container-id-1 input.sk-toggleable__control:checked~div.sk-toggleable__content {max-height: 200px;max-width: 100%;overflow: auto;}#sk-container-id-1 input.sk-toggleable__control:checked~label.sk-toggleable__label-arrow:before {content: \"▾\";}#sk-container-id-1 div.sk-estimator input.sk-toggleable__control:checked~label.sk-toggleable__label {background-color: #d4ebff;}#sk-container-id-1 div.sk-label input.sk-toggleable__control:checked~label.sk-toggleable__label {background-color: #d4ebff;}#sk-container-id-1 input.sk-hidden--visually {border: 0;clip: rect(1px 1px 1px 1px);clip: rect(1px, 1px, 1px, 1px);height: 1px;margin: -1px;overflow: hidden;padding: 0;position: absolute;width: 1px;}#sk-container-id-1 div.sk-estimator {font-family: monospace;background-color: #f0f8ff;border: 1px dotted black;border-radius: 0.25em;box-sizing: border-box;margin-bottom: 0.5em;}#sk-container-id-1 div.sk-estimator:hover {background-color: #d4ebff;}#sk-container-id-1 div.sk-parallel-item::after {content: \"\";width: 100%;border-bottom: 1px solid gray;flex-grow: 1;}#sk-container-id-1 div.sk-label:hover label.sk-toggleable__label {background-color: #d4ebff;}#sk-container-id-1 div.sk-serial::before {content: \"\";position: absolute;border-left: 1px solid gray;box-sizing: border-box;top: 0;bottom: 0;left: 50%;z-index: 0;}#sk-container-id-1 div.sk-serial {display: flex;flex-direction: column;align-items: center;background-color: white;padding-right: 0.2em;padding-left: 0.2em;position: relative;}#sk-container-id-1 div.sk-item {position: relative;z-index: 1;}#sk-container-id-1 div.sk-parallel {display: flex;align-items: stretch;justify-content: center;background-color: white;position: relative;}#sk-container-id-1 div.sk-item::before, #sk-container-id-1 div.sk-parallel-item::before {content: \"\";position: absolute;border-left: 1px solid gray;box-sizing: border-box;top: 0;bottom: 0;left: 50%;z-index: -1;}#sk-container-id-1 div.sk-parallel-item {display: flex;flex-direction: column;z-index: 1;position: relative;background-color: white;}#sk-container-id-1 div.sk-parallel-item:first-child::after {align-self: flex-end;width: 50%;}#sk-container-id-1 div.sk-parallel-item:last-child::after {align-self: flex-start;width: 50%;}#sk-container-id-1 div.sk-parallel-item:only-child::after {width: 0;}#sk-container-id-1 div.sk-dashed-wrapped {border: 1px dashed gray;margin: 0 0.4em 0.5em 0.4em;box-sizing: border-box;padding-bottom: 0.4em;background-color: white;}#sk-container-id-1 div.sk-label label {font-family: monospace;font-weight: bold;display: inline-block;line-height: 1.2em;}#sk-container-id-1 div.sk-label-container {text-align: center;}#sk-container-id-1 div.sk-container {/* jupyter's `normalize.less` sets `[hidden] { display: none; }` but bootstrap.min.css set `[hidden] { display: none !important; }` so we also need the `!important` here to be able to override the default hidden behavior on the sphinx rendered scikit-learn.org. See: https://github.com/scikit-learn/scikit-learn/issues/21755 */display: inline-block !important;position: relative;}#sk-container-id-1 div.sk-text-repr-fallback {display: none;}</style><div id=\"sk-container-id-1\" class=\"sk-top-container\"><div class=\"sk-text-repr-fallback\"><pre>GridSearchCV(cv=5,\n",
       "             estimator=Pipeline(steps=[(&#x27;regressor_xgb&#x27;,\n",
       "                                        XGBRegressor(base_score=None,\n",
       "                                                     booster=None,\n",
       "                                                     callbacks=None,\n",
       "                                                     colsample_bylevel=None,\n",
       "                                                     colsample_bynode=None,\n",
       "                                                     colsample_bytree=None,\n",
       "                                                     device=None,\n",
       "                                                     early_stopping_rounds=None,\n",
       "                                                     enable_categorical=False,\n",
       "                                                     eval_metric=None,\n",
       "                                                     feature_types=None,\n",
       "                                                     gamma=None,\n",
       "                                                     grow_policy=None,\n",
       "                                                     importance_type=None,\n",
       "                                                     interaction_cons...\n",
       "                                                     max_leaves=None,\n",
       "                                                     min_child_weight=None,\n",
       "                                                     missing=nan,\n",
       "                                                     monotone_constraints=None,\n",
       "                                                     multi_strategy=None,\n",
       "                                                     n_estimators=None,\n",
       "                                                     n_jobs=None,\n",
       "                                                     num_parallel_tree=None,\n",
       "                                                     random_state=None, ...))]),\n",
       "             n_jobs=-1,\n",
       "             param_grid={&#x27;regressor_xgb__learning_rate&#x27;: [0.01, 0.05, 0.1],\n",
       "                         &#x27;regressor_xgb__max_depth&#x27;: [3, 5, 7, 9],\n",
       "                         &#x27;regressor_xgb__n_estimators&#x27;: [200, 400, 600, 800,\n",
       "                                                         1000]},\n",
       "             scoring=&#x27;r2&#x27;, verbose=4)</pre><b>In a Jupyter environment, please rerun this cell to show the HTML representation or trust the notebook. <br />On GitHub, the HTML representation is unable to render, please try loading this page with nbviewer.org.</b></div><div class=\"sk-container\" hidden><div class=\"sk-item sk-dashed-wrapped\"><div class=\"sk-label-container\"><div class=\"sk-label sk-toggleable\"><input class=\"sk-toggleable__control sk-hidden--visually\" id=\"sk-estimator-id-1\" type=\"checkbox\" ><label for=\"sk-estimator-id-1\" class=\"sk-toggleable__label sk-toggleable__label-arrow\">GridSearchCV</label><div class=\"sk-toggleable__content\"><pre>GridSearchCV(cv=5,\n",
       "             estimator=Pipeline(steps=[(&#x27;regressor_xgb&#x27;,\n",
       "                                        XGBRegressor(base_score=None,\n",
       "                                                     booster=None,\n",
       "                                                     callbacks=None,\n",
       "                                                     colsample_bylevel=None,\n",
       "                                                     colsample_bynode=None,\n",
       "                                                     colsample_bytree=None,\n",
       "                                                     device=None,\n",
       "                                                     early_stopping_rounds=None,\n",
       "                                                     enable_categorical=False,\n",
       "                                                     eval_metric=None,\n",
       "                                                     feature_types=None,\n",
       "                                                     gamma=None,\n",
       "                                                     grow_policy=None,\n",
       "                                                     importance_type=None,\n",
       "                                                     interaction_cons...\n",
       "                                                     max_leaves=None,\n",
       "                                                     min_child_weight=None,\n",
       "                                                     missing=nan,\n",
       "                                                     monotone_constraints=None,\n",
       "                                                     multi_strategy=None,\n",
       "                                                     n_estimators=None,\n",
       "                                                     n_jobs=None,\n",
       "                                                     num_parallel_tree=None,\n",
       "                                                     random_state=None, ...))]),\n",
       "             n_jobs=-1,\n",
       "             param_grid={&#x27;regressor_xgb__learning_rate&#x27;: [0.01, 0.05, 0.1],\n",
       "                         &#x27;regressor_xgb__max_depth&#x27;: [3, 5, 7, 9],\n",
       "                         &#x27;regressor_xgb__n_estimators&#x27;: [200, 400, 600, 800,\n",
       "                                                         1000]},\n",
       "             scoring=&#x27;r2&#x27;, verbose=4)</pre></div></div></div><div class=\"sk-parallel\"><div class=\"sk-parallel-item\"><div class=\"sk-item\"><div class=\"sk-label-container\"><div class=\"sk-label sk-toggleable\"><input class=\"sk-toggleable__control sk-hidden--visually\" id=\"sk-estimator-id-2\" type=\"checkbox\" ><label for=\"sk-estimator-id-2\" class=\"sk-toggleable__label sk-toggleable__label-arrow\">estimator: Pipeline</label><div class=\"sk-toggleable__content\"><pre>Pipeline(steps=[(&#x27;regressor_xgb&#x27;,\n",
       "                 XGBRegressor(base_score=None, booster=None, callbacks=None,\n",
       "                              colsample_bylevel=None, colsample_bynode=None,\n",
       "                              colsample_bytree=None, device=None,\n",
       "                              early_stopping_rounds=None,\n",
       "                              enable_categorical=False, eval_metric=None,\n",
       "                              feature_types=None, gamma=None, grow_policy=None,\n",
       "                              importance_type=None,\n",
       "                              interaction_constraints=None, learning_rate=None,\n",
       "                              max_bin=None, max_cat_threshold=None,\n",
       "                              max_cat_to_onehot=None, max_delta_step=None,\n",
       "                              max_depth=None, max_leaves=None,\n",
       "                              min_child_weight=None, missing=nan,\n",
       "                              monotone_constraints=None, multi_strategy=None,\n",
       "                              n_estimators=None, n_jobs=None,\n",
       "                              num_parallel_tree=None, random_state=None, ...))])</pre></div></div></div><div class=\"sk-serial\"><div class=\"sk-item\"><div class=\"sk-serial\"><div class=\"sk-item\"><div class=\"sk-estimator sk-toggleable\"><input class=\"sk-toggleable__control sk-hidden--visually\" id=\"sk-estimator-id-3\" type=\"checkbox\" ><label for=\"sk-estimator-id-3\" class=\"sk-toggleable__label sk-toggleable__label-arrow\">XGBRegressor</label><div class=\"sk-toggleable__content\"><pre>XGBRegressor(base_score=None, booster=None, callbacks=None,\n",
       "             colsample_bylevel=None, colsample_bynode=None,\n",
       "             colsample_bytree=None, device=None, early_stopping_rounds=None,\n",
       "             enable_categorical=False, eval_metric=None, feature_types=None,\n",
       "             gamma=None, grow_policy=None, importance_type=None,\n",
       "             interaction_constraints=None, learning_rate=None, max_bin=None,\n",
       "             max_cat_threshold=None, max_cat_to_onehot=None,\n",
       "             max_delta_step=None, max_depth=None, max_leaves=None,\n",
       "             min_child_weight=None, missing=nan, monotone_constraints=None,\n",
       "             multi_strategy=None, n_estimators=None, n_jobs=None,\n",
       "             num_parallel_tree=None, random_state=None, ...)</pre></div></div></div></div></div></div></div></div></div></div></div></div>"
      ],
      "text/plain": [
       "GridSearchCV(cv=5,\n",
       "             estimator=Pipeline(steps=[('regressor_xgb',\n",
       "                                        XGBRegressor(base_score=None,\n",
       "                                                     booster=None,\n",
       "                                                     callbacks=None,\n",
       "                                                     colsample_bylevel=None,\n",
       "                                                     colsample_bynode=None,\n",
       "                                                     colsample_bytree=None,\n",
       "                                                     device=None,\n",
       "                                                     early_stopping_rounds=None,\n",
       "                                                     enable_categorical=False,\n",
       "                                                     eval_metric=None,\n",
       "                                                     feature_types=None,\n",
       "                                                     gamma=None,\n",
       "                                                     grow_policy=None,\n",
       "                                                     importance_type=None,\n",
       "                                                     interaction_cons...\n",
       "                                                     max_leaves=None,\n",
       "                                                     min_child_weight=None,\n",
       "                                                     missing=nan,\n",
       "                                                     monotone_constraints=None,\n",
       "                                                     multi_strategy=None,\n",
       "                                                     n_estimators=None,\n",
       "                                                     n_jobs=None,\n",
       "                                                     num_parallel_tree=None,\n",
       "                                                     random_state=None, ...))]),\n",
       "             n_jobs=-1,\n",
       "             param_grid={'regressor_xgb__learning_rate': [0.01, 0.05, 0.1],\n",
       "                         'regressor_xgb__max_depth': [3, 5, 7, 9],\n",
       "                         'regressor_xgb__n_estimators': [200, 400, 600, 800,\n",
       "                                                         1000]},\n",
       "             scoring='r2', verbose=4)"
      ]
     },
     "execution_count": 17,
     "metadata": {},
     "output_type": "execute_result"
    }
   ],
   "source": [
    "search_xgb.fit(X_train_scaled, y_train)"
   ]
  },
  {
   "cell_type": "code",
   "execution_count": 18,
   "id": "38924ac0",
   "metadata": {
    "ExecuteTime": {
     "end_time": "2024-04-16T11:33:55.434117Z",
     "start_time": "2024-04-16T11:33:55.414131Z"
    }
   },
   "outputs": [
    {
     "name": "stdout",
     "output_type": "stream",
     "text": [
      "Best parameters :  {'regressor_xgb__learning_rate': 0.05, 'regressor_xgb__max_depth': 9, 'regressor_xgb__n_estimators': 600}\n"
     ]
    }
   ],
   "source": [
    "print(\"Best parameters : \", search_xgb.best_params_)"
   ]
  },
  {
   "cell_type": "code",
   "execution_count": 19,
   "id": "8362420e",
   "metadata": {
    "ExecuteTime": {
     "end_time": "2024-04-16T11:33:55.448311Z",
     "start_time": "2024-04-16T11:33:55.434117Z"
    }
   },
   "outputs": [
    {
     "name": "stdout",
     "output_type": "stream",
     "text": [
      "Best score :  0.8988394208004978\n"
     ]
    }
   ],
   "source": [
    "print(\"Best score : \",search_xgb.best_score_)"
   ]
  },
  {
   "cell_type": "markdown",
   "id": "a02c1cd7",
   "metadata": {},
   "source": [
    "### Final model"
   ]
  },
  {
   "cell_type": "code",
   "execution_count": 20,
   "id": "1b6db880",
   "metadata": {
    "ExecuteTime": {
     "end_time": "2024-04-16T11:34:02.519956Z",
     "start_time": "2024-04-16T11:33:55.448311Z"
    }
   },
   "outputs": [
    {
     "data": {
      "text/html": [
       "<style>#sk-container-id-2 {color: black;background-color: white;}#sk-container-id-2 pre{padding: 0;}#sk-container-id-2 div.sk-toggleable {background-color: white;}#sk-container-id-2 label.sk-toggleable__label {cursor: pointer;display: block;width: 100%;margin-bottom: 0;padding: 0.3em;box-sizing: border-box;text-align: center;}#sk-container-id-2 label.sk-toggleable__label-arrow:before {content: \"▸\";float: left;margin-right: 0.25em;color: #696969;}#sk-container-id-2 label.sk-toggleable__label-arrow:hover:before {color: black;}#sk-container-id-2 div.sk-estimator:hover label.sk-toggleable__label-arrow:before {color: black;}#sk-container-id-2 div.sk-toggleable__content {max-height: 0;max-width: 0;overflow: hidden;text-align: left;background-color: #f0f8ff;}#sk-container-id-2 div.sk-toggleable__content pre {margin: 0.2em;color: black;border-radius: 0.25em;background-color: #f0f8ff;}#sk-container-id-2 input.sk-toggleable__control:checked~div.sk-toggleable__content {max-height: 200px;max-width: 100%;overflow: auto;}#sk-container-id-2 input.sk-toggleable__control:checked~label.sk-toggleable__label-arrow:before {content: \"▾\";}#sk-container-id-2 div.sk-estimator input.sk-toggleable__control:checked~label.sk-toggleable__label {background-color: #d4ebff;}#sk-container-id-2 div.sk-label input.sk-toggleable__control:checked~label.sk-toggleable__label {background-color: #d4ebff;}#sk-container-id-2 input.sk-hidden--visually {border: 0;clip: rect(1px 1px 1px 1px);clip: rect(1px, 1px, 1px, 1px);height: 1px;margin: -1px;overflow: hidden;padding: 0;position: absolute;width: 1px;}#sk-container-id-2 div.sk-estimator {font-family: monospace;background-color: #f0f8ff;border: 1px dotted black;border-radius: 0.25em;box-sizing: border-box;margin-bottom: 0.5em;}#sk-container-id-2 div.sk-estimator:hover {background-color: #d4ebff;}#sk-container-id-2 div.sk-parallel-item::after {content: \"\";width: 100%;border-bottom: 1px solid gray;flex-grow: 1;}#sk-container-id-2 div.sk-label:hover label.sk-toggleable__label {background-color: #d4ebff;}#sk-container-id-2 div.sk-serial::before {content: \"\";position: absolute;border-left: 1px solid gray;box-sizing: border-box;top: 0;bottom: 0;left: 50%;z-index: 0;}#sk-container-id-2 div.sk-serial {display: flex;flex-direction: column;align-items: center;background-color: white;padding-right: 0.2em;padding-left: 0.2em;position: relative;}#sk-container-id-2 div.sk-item {position: relative;z-index: 1;}#sk-container-id-2 div.sk-parallel {display: flex;align-items: stretch;justify-content: center;background-color: white;position: relative;}#sk-container-id-2 div.sk-item::before, #sk-container-id-2 div.sk-parallel-item::before {content: \"\";position: absolute;border-left: 1px solid gray;box-sizing: border-box;top: 0;bottom: 0;left: 50%;z-index: -1;}#sk-container-id-2 div.sk-parallel-item {display: flex;flex-direction: column;z-index: 1;position: relative;background-color: white;}#sk-container-id-2 div.sk-parallel-item:first-child::after {align-self: flex-end;width: 50%;}#sk-container-id-2 div.sk-parallel-item:last-child::after {align-self: flex-start;width: 50%;}#sk-container-id-2 div.sk-parallel-item:only-child::after {width: 0;}#sk-container-id-2 div.sk-dashed-wrapped {border: 1px dashed gray;margin: 0 0.4em 0.5em 0.4em;box-sizing: border-box;padding-bottom: 0.4em;background-color: white;}#sk-container-id-2 div.sk-label label {font-family: monospace;font-weight: bold;display: inline-block;line-height: 1.2em;}#sk-container-id-2 div.sk-label-container {text-align: center;}#sk-container-id-2 div.sk-container {/* jupyter's `normalize.less` sets `[hidden] { display: none; }` but bootstrap.min.css set `[hidden] { display: none !important; }` so we also need the `!important` here to be able to override the default hidden behavior on the sphinx rendered scikit-learn.org. See: https://github.com/scikit-learn/scikit-learn/issues/21755 */display: inline-block !important;position: relative;}#sk-container-id-2 div.sk-text-repr-fallback {display: none;}</style><div id=\"sk-container-id-2\" class=\"sk-top-container\"><div class=\"sk-text-repr-fallback\"><pre>XGBRegressor(base_score=None, booster=None, callbacks=None,\n",
       "             colsample_bylevel=None, colsample_bynode=None,\n",
       "             colsample_bytree=None, device=None, early_stopping_rounds=None,\n",
       "             enable_categorical=False, eval_metric=None, feature_types=None,\n",
       "             gamma=None, grow_policy=None, importance_type=None,\n",
       "             interaction_constraints=None, learning_rate=0.05, max_bin=None,\n",
       "             max_cat_threshold=None, max_cat_to_onehot=None,\n",
       "             max_delta_step=None, max_depth=9, max_leaves=None,\n",
       "             min_child_weight=None, missing=nan, monotone_constraints=None,\n",
       "             multi_strategy=None, n_estimators=600, n_jobs=None,\n",
       "             num_parallel_tree=None, random_state=None, ...)</pre><b>In a Jupyter environment, please rerun this cell to show the HTML representation or trust the notebook. <br />On GitHub, the HTML representation is unable to render, please try loading this page with nbviewer.org.</b></div><div class=\"sk-container\" hidden><div class=\"sk-item\"><div class=\"sk-estimator sk-toggleable\"><input class=\"sk-toggleable__control sk-hidden--visually\" id=\"sk-estimator-id-4\" type=\"checkbox\" checked><label for=\"sk-estimator-id-4\" class=\"sk-toggleable__label sk-toggleable__label-arrow\">XGBRegressor</label><div class=\"sk-toggleable__content\"><pre>XGBRegressor(base_score=None, booster=None, callbacks=None,\n",
       "             colsample_bylevel=None, colsample_bynode=None,\n",
       "             colsample_bytree=None, device=None, early_stopping_rounds=None,\n",
       "             enable_categorical=False, eval_metric=None, feature_types=None,\n",
       "             gamma=None, grow_policy=None, importance_type=None,\n",
       "             interaction_constraints=None, learning_rate=0.05, max_bin=None,\n",
       "             max_cat_threshold=None, max_cat_to_onehot=None,\n",
       "             max_delta_step=None, max_depth=9, max_leaves=None,\n",
       "             min_child_weight=None, missing=nan, monotone_constraints=None,\n",
       "             multi_strategy=None, n_estimators=600, n_jobs=None,\n",
       "             num_parallel_tree=None, random_state=None, ...)</pre></div></div></div></div></div>"
      ],
      "text/plain": [
       "XGBRegressor(base_score=None, booster=None, callbacks=None,\n",
       "             colsample_bylevel=None, colsample_bynode=None,\n",
       "             colsample_bytree=None, device=None, early_stopping_rounds=None,\n",
       "             enable_categorical=False, eval_metric=None, feature_types=None,\n",
       "             gamma=None, grow_policy=None, importance_type=None,\n",
       "             interaction_constraints=None, learning_rate=0.05, max_bin=None,\n",
       "             max_cat_threshold=None, max_cat_to_onehot=None,\n",
       "             max_delta_step=None, max_depth=9, max_leaves=None,\n",
       "             min_child_weight=None, missing=nan, monotone_constraints=None,\n",
       "             multi_strategy=None, n_estimators=600, n_jobs=None,\n",
       "             num_parallel_tree=None, random_state=None, ...)"
      ]
     },
     "execution_count": 20,
     "metadata": {},
     "output_type": "execute_result"
    }
   ],
   "source": [
    "final_model =XGBRegressor(learning_rate=0.05, max_depth=9, n_estimators=600)\n",
    "final_model.fit(X_train_scaled, y_train)"
   ]
  },
  {
   "cell_type": "code",
   "execution_count": 21,
   "id": "4983bd78",
   "metadata": {
    "ExecuteTime": {
     "end_time": "2024-04-16T11:34:02.553383Z",
     "start_time": "2024-04-16T11:34:02.519956Z"
    }
   },
   "outputs": [
    {
     "data": {
      "text/plain": [
       "array([0.00456446, 0.01413566, 0.02177388, 0.03538572, 0.04136048,\n",
       "       0.04688738, 0.06778846, 0.07224496, 0.18092185, 0.5149372 ],\n",
       "      dtype=float32)"
      ]
     },
     "execution_count": 21,
     "metadata": {},
     "output_type": "execute_result"
    }
   ],
   "source": [
    "feature_importance = final_model.feature_importances_\n",
    "\n",
    "sorted_indices = np.argsort(feature_importance) \n",
    "feature_importance = feature_importance[sorted_indices]\n",
    "\n",
    "feature_importance"
   ]
  },
  {
   "cell_type": "markdown",
   "id": "412cbff6",
   "metadata": {},
   "source": [
    "### Feature importances\n"
   ]
  },
  {
   "cell_type": "code",
   "execution_count": 22,
   "id": "15fa665b",
   "metadata": {
    "ExecuteTime": {
     "end_time": "2024-04-16T11:46:01.093831Z",
     "start_time": "2024-04-16T11:34:02.553383Z"
    }
   },
   "outputs": [
    {
     "data": {
      "image/png": "[encoded data removed]",
      "text/plain": [
       "<Figure size 800x550 with 1 Axes>"
      ]
     },
     "metadata": {},
     "output_type": "display_data"
    }
   ],
   "source": [
    "import shap\n",
    "\n",
    "explainer = shap.TreeExplainer(final_model)\n",
    "shap_values = explainer.shap_values(X_test_scaled)\n",
    "\n",
    "# SHAP summary plot\n",
    "shap.summary_plot(shap_values, X_test_scaled, feature_names=X_test.columns, plot_type='bar')\n",
    "plt.show()"
   ]
  },
  {
   "cell_type": "markdown",
   "id": "39d7a09c",
   "metadata": {},
   "source": [
    "### Prediction and Evaluation"
   ]
  },
  {
   "cell_type": "code",
   "execution_count": 23,
   "id": "6921cb68",
   "metadata": {
    "ExecuteTime": {
     "end_time": "2024-04-16T11:46:01.514728Z",
     "start_time": "2024-04-16T11:46:01.093831Z"
    }
   },
   "outputs": [
    {
     "name": "stdout",
     "output_type": "stream",
     "text": [
      "R-squared: 0.9014478983657883\n",
      "Mean absolute error: 942.5399332565589\n",
      "Mean squared error: 2171725.3978644507\n",
      "Median absolute error: 583.88330078125\n",
      "Root mean square error: 1473.6775080947834\n"
     ]
    }
   ],
   "source": [
    "predictions = final_model.predict(X_test_scaled)\n",
    "\n",
    "print(\"R-squared:\", r2_score(y_test, predictions))\n",
    "print(\"Mean absolute error:\", mean_absolute_error(y_test, predictions))\n",
    "print(\"Mean squared error:\", mean_squared_error(y_test, predictions))\n",
    "print(\"Median absolute error:\", median_absolute_error(y_test, predictions))\n",
    "rmse =np.sqrt(mean_squared_error(y_test, predictions))\n",
    "print(\"Root mean square error:\", rmse)"
   ]
  },
  {
   "cell_type": "code",
   "execution_count": 24,
   "id": "56f11102",
   "metadata": {
    "ExecuteTime": {
     "end_time": "2024-04-16T11:46:01.963469Z",
     "start_time": "2024-04-16T11:46:01.518287Z"
    }
   },
   "outputs": [
    {
     "data": {
      "image/png": "[encoded data removed]",
      "text/plain": [
       "<Figure size 640x480 with 1 Axes>"
      ]
     },
     "metadata": {},
     "output_type": "display_data"
    }
   ],
   "source": [
    "plt.scatter(y_test, predictions)\n",
    "plt.xlabel(\"Actual Values\")\n",
    "plt.ylabel(\"Predicted Values\")\n",
    "plt.title(\"Predictions vs. Actual Values\")\n",
    "plt.show()"
   ]
  },
  {
   "cell_type": "code",
   "execution_count": 25,
   "id": "5489cdcf",
   "metadata": {
    "ExecuteTime": {
     "end_time": "2024-04-16T11:46:03.114147Z",
     "start_time": "2024-04-16T11:46:01.966485Z"
    }
   },
   "outputs": [
    {
     "data": {
      "image/png": "[encoded data removed]",
      "text/plain": [
       "<Figure size 500x500 with 1 Axes>"
      ]
     },
     "metadata": {},
     "output_type": "display_data"
    }
   ],
   "source": [
    "sns.displot(y_test - predictions, color='green')\n",
    "plt.xlabel(\"Prediction Error\")\n",
    "plt.ylabel(\"Density\")\n",
    "plt.title(\"Distribution of Prediction Errors\")\n",
    "plt.show()"
   ]
  },
  {
   "cell_type": "code",
   "execution_count": null,
   "id": "58a392b8",
   "metadata": {},
   "outputs": [],
   "source": []
  },
  {
   "cell_type": "code",
   "execution_count": 26,
   "id": "a4cf9d40",
   "metadata": {
    "ExecuteTime": {
     "end_time": "2024-04-16T11:46:03.248675Z",
     "start_time": "2024-04-16T11:46:03.118977Z"
    }
   },
   "outputs": [],
   "source": [
    "with open('final_model.pkl', 'wb') as file:\n",
    "    pickle.dump(final_model, file)"
   ]
  },
  {
   "cell_type": "code",
   "execution_count": null,
   "id": "5a42b7f4",
   "metadata": {},
   "outputs": [],
   "source": []
  }
 ],
 "metadata": {
  "kernelspec": {
   "display_name": "Python 3 (ipykernel)",
   "language": "python",
   "name": "python3"
  },
  "language_info": {
   "codemirror_mode": {
    "name": "ipython",
    "version": 3
   },
   "file_extension": ".py",
   "mimetype": "text/x-python",
   "name": "python",
   "nbconvert_exporter": "python",
   "pygments_lexer": "ipython3",
   "version": "3.11.5"
  },
  "toc": {
   "base_numbering": 1,
   "nav_menu": {},
   "number_sections": true,
   "sideBar": true,
   "skip_h1_title": false,
   "title_cell": "Table of Contents",
   "title_sidebar": "Contents",
   "toc_cell": false,
   "toc_position": {},
   "toc_section_display": true,
   "toc_window_display": false
  },
  "varInspector": {
   "cols": {
    "lenName": 16,
    "lenType": 16,
    "lenVar": 40
   },
   "kernels_config": {
    "python": {
     "delete_cmd_postfix": "",
     "delete_cmd_prefix": "del ",
     "library": "var_list.py",
     "varRefreshCmd": "print(var_dic_list())"
    },
    "r": {
     "delete_cmd_postfix": ") ",
     "delete_cmd_prefix": "rm(",
     "library": "var_list.r",
     "varRefreshCmd": "cat(var_dic_list()) "
    }
   },
   "types_to_exclude": [
    "module",
    "function",
    "builtin_function_or_method",
    "instance",
    "_Feature"
   ],
   "window_display": false
  }
 },
 "nbformat": 4,
 "nbformat_minor": 5
}
