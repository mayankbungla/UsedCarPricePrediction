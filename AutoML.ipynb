{
 "cells": [
  {
   "cell_type": "code",
   "execution_count": 6,
   "id": "dd0a4a5b",
   "metadata": {
    "ExecuteTime": {
     "end_time": "2024-04-15T08:01:35.684231Z",
     "start_time": "2024-04-15T08:01:35.665814Z"
    }
   },
   "outputs": [],
   "source": [
    "import pandas as pd\n",
    "from tpot import TPOTRegressor\n",
    "from sklearn.model_selection import train_test_split"
   ]
  },
  {
   "cell_type": "code",
   "execution_count": 7,
   "id": "eb64d5c8",
   "metadata": {
    "ExecuteTime": {
     "end_time": "2024-04-15T08:01:38.176199Z",
     "start_time": "2024-04-15T08:01:35.921735Z"
    }
   },
   "outputs": [],
   "source": [
    "df= pd.read_csv('autos.csv')"
   ]
  },
  {
   "cell_type": "code",
   "execution_count": null,
   "id": "2900ecf0",
   "metadata": {},
   "outputs": [],
   "source": []
  },
  {
   "cell_type": "code",
   "execution_count": 9,
   "id": "03882747",
   "metadata": {
    "ExecuteTime": {
     "end_time": "2024-04-15T08:01:43.360183Z",
     "start_time": "2024-04-15T08:01:42.770561Z"
    },
    "scrolled": true
   },
   "outputs": [],
   "source": [
    "datetime_cols = ['dateCrawled', 'dateCreated', 'lastSeen']\n",
    "\n",
    "for col in datetime_cols:\n",
    "    df[col] = pd.to_datetime(df[col])"
   ]
  },
  {
   "cell_type": "code",
   "execution_count": 10,
   "id": "d6ca7c4c",
   "metadata": {
    "ExecuteTime": {
     "end_time": "2024-04-15T08:01:45.702745Z",
     "start_time": "2024-04-15T08:01:43.874148Z"
    }
   },
   "outputs": [],
   "source": [
    "from sklearn.preprocessing import LabelEncoder\n",
    "\n",
    "label_encoder = LabelEncoder()\n",
    "\n",
    "for column in df.select_dtypes(include=['object']).columns:\n",
    "    df[column] = label_encoder.fit_transform(df[column])"
   ]
  },
  {
   "cell_type": "code",
   "execution_count": 14,
   "id": "44a26d1a",
   "metadata": {
    "ExecuteTime": {
     "end_time": "2024-04-15T08:02:14.266238Z",
     "start_time": "2024-04-15T08:02:14.201705Z"
    }
   },
   "outputs": [],
   "source": [
    "# Drop datetime columns not supported in TOPT \n",
    "df = df.drop(columns=datetime_cols)\n",
    "\n",
    "# Drop rows with missing values in the target variable\n",
    "df = df.dropna(subset=['price'])"
   ]
  },
  {
   "cell_type": "code",
   "execution_count": 15,
   "id": "e13cfb41",
   "metadata": {
    "ExecuteTime": {
     "end_time": "2024-04-15T08:02:15.398655Z",
     "start_time": "2024-04-15T08:02:15.365956Z"
    }
   },
   "outputs": [],
   "source": [
    "df_sample = df.sample(n=30000, random_state= 42)"
   ]
  },
  {
   "cell_type": "code",
   "execution_count": 16,
   "id": "6d5c01e9",
   "metadata": {
    "ExecuteTime": {
     "end_time": "2024-04-15T09:40:19.153698Z",
     "start_time": "2024-04-15T08:02:16.166344Z"
    }
   },
   "outputs": [
    {
     "name": "stderr",
     "output_type": "stream",
     "text": [
      "Version 0.12.1 of tpot is outdated. Version 0.12.2 was released Friday February 23, 2024.\n"
     ]
    },
    {
     "data": {
      "application/vnd.jupyter.widget-view+json": {
       "model_id": "",
       "version_major": 2,
       "version_minor": 0
      },
      "text/plain": [
       "Optimization Progress:   0%|          | 0/300 [00:00<?, ?pipeline/s]"
      ]
     },
     "metadata": {},
     "output_type": "display_data"
    },
    {
     "name": "stdout",
     "output_type": "stream",
     "text": [
      "\n",
      "Generation 1 - Current best internal CV score: -1250924429743.6235\n",
      "\n",
      "Generation 2 - Current best internal CV score: -1250886141484.15\n",
      "\n",
      "Generation 3 - Current best internal CV score: -1248648364877.2297\n",
      "\n",
      "Generation 4 - Current best internal CV score: -1248648364877.2297\n",
      "\n",
      "Generation 5 - Current best internal CV score: -1248648364877.2297\n",
      "\n",
      "Best pipeline: AdaBoostRegressor(RobustScaler(input_matrix), learning_rate=1.0, loss=linear, n_estimators=100)\n",
      "Test score: -89779387.08611691\n"
     ]
    }
   ],
   "source": [
    "X = df_sample.drop(columns=['price'])  # Features\n",
    "y = df_sample['price']  # Target variable\n",
    "\n",
    "# Split data into train and test sets (80% train, 20% test)\n",
    "X_train, X_test, y_train, y_test = train_test_split(X, y, test_size=0.2, random_state=42)\n",
    "\n",
    "# Initialize TPOTRegressor\n",
    "tpot = TPOTRegressor(generations=5, population_size=50, verbosity=2, random_state=42)\n",
    "\n",
    "# Fit TPOTRegressor on training data\n",
    "tpot.fit(X_train, y_train)\n",
    "\n",
    "# Evaluate TPOTRegressor on test data\n",
    "print(\"Test score:\", tpot.score(X_test, y_test))"
   ]
  },
  {
   "cell_type": "code",
   "execution_count": null,
   "id": "2b5118ad",
   "metadata": {},
   "outputs": [],
   "source": []
  }
 ],
 "metadata": {
  "kernelspec": {
   "display_name": "Python 3 (ipykernel)",
   "language": "python",
   "name": "python3"
  },
  "language_info": {
   "codemirror_mode": {
    "name": "ipython",
    "version": 3
   },
   "file_extension": ".py",
   "mimetype": "text/x-python",
   "name": "python",
   "nbconvert_exporter": "python",
   "pygments_lexer": "ipython3",
   "version": "3.11.5"
  },
  "toc": {
   "base_numbering": 1,
   "nav_menu": {},
   "number_sections": true,
   "sideBar": true,
   "skip_h1_title": false,
   "title_cell": "Table of Contents",
   "title_sidebar": "Contents",
   "toc_cell": false,
   "toc_position": {},
   "toc_section_display": true,
   "toc_window_display": false
  },
  "varInspector": {
   "cols": {
    "lenName": 16,
    "lenType": 16,
    "lenVar": 40
   },
   "kernels_config": {
    "python": {
     "delete_cmd_postfix": "",
     "delete_cmd_prefix": "del ",
     "library": "var_list.py",
     "varRefreshCmd": "print(var_dic_list())"
    },
    "r": {
     "delete_cmd_postfix": ") ",
     "delete_cmd_prefix": "rm(",
     "library": "var_list.r",
     "varRefreshCmd": "cat(var_dic_list()) "
    }
   },
   "types_to_exclude": [
    "module",
    "function",
    "builtin_function_or_method",
    "instance",
    "_Feature"
   ],
   "window_display": false
  }
 },
 "nbformat": 4,
 "nbformat_minor": 5
}
