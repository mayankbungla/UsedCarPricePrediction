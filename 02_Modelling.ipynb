{
 "cells": [
  {
   "cell_type": "code",
   "execution_count": 2,
   "id": "c244a694",
   "metadata": {
    "ExecuteTime": {
     "end_time": "2024-04-15T14:36:09.300581Z",
     "start_time": "2024-04-15T14:36:09.295854Z"
    }
   },
   "outputs": [],
   "source": [
    "import pandas as pd\n",
    "from sklearn.model_selection import train_test_split\n",
    "from sklearn.linear_model import LinearRegression, Ridge, Lasso\n",
    "from sklearn.tree import DecisionTreeRegressor\n",
    "from sklearn.ensemble import RandomForestRegressor, GradientBoostingRegressor, AdaBoostRegressor\n",
    "from sklearn.svm import SVR\n",
    "from sklearn.neighbors import KNeighborsRegressor\n",
    "import xgboost as xgb\n",
    "from sklearn.metrics import r2_score, mean_absolute_error, mean_squared_error\n",
    "import numpy as np"
   ]
  },
  {
   "cell_type": "code",
   "execution_count": 3,
   "id": "7d91f3a0",
   "metadata": {
    "ExecuteTime": {
     "end_time": "2024-04-15T14:36:10.307005Z",
     "start_time": "2024-04-15T14:36:10.270637Z"
    }
   },
   "outputs": [],
   "source": [
    "# Loading Dataset\n",
    "df = pd.read_pickle('encoded_data.pkl')"
   ]
  },
  {
   "cell_type": "code",
   "execution_count": 4,
   "id": "c423a211",
   "metadata": {
    "ExecuteTime": {
     "end_time": "2024-04-15T14:36:10.895648Z",
     "start_time": "2024-04-15T14:36:10.851930Z"
    }
   },
   "outputs": [],
   "source": [
    "X = df.drop('price',axis=1)\n",
    "y= df['price']"
   ]
  },
  {
   "cell_type": "code",
   "execution_count": 5,
   "id": "f54e78e9",
   "metadata": {
    "ExecuteTime": {
     "end_time": "2024-04-15T14:36:11.336889Z",
     "start_time": "2024-04-15T14:36:11.221407Z"
    }
   },
   "outputs": [],
   "source": [
    "# Splitting df -- 70% For training purpose, 15% for validation,15% for testing (untouched till final model)\n",
    "\n",
    "X_train,X_temp,y_train,y_temp = train_test_split(X, y, test_size=0.3, random_state=21)\n",
    "X_val,X_test,y_val,y_test = train_test_split(X_temp,y_temp, test_size=0.5 , random_state=101)"
   ]
  },
  {
   "cell_type": "code",
   "execution_count": 6,
   "id": "ecd4e29f",
   "metadata": {
    "ExecuteTime": {
     "end_time": "2024-04-15T14:36:11.679458Z",
     "start_time": "2024-04-15T14:36:11.670005Z"
    }
   },
   "outputs": [],
   "source": [
    "# models\n",
    "models = models = {\n",
    "    'Linear Regression': LinearRegression(),\n",
    "    'Ridge Regression': Ridge(),\n",
    "    'Lasso Regression': Lasso(),\n",
    "    'Decision Tree': DecisionTreeRegressor(),\n",
    "    'Random Forest': RandomForestRegressor(),\n",
    "    'Gradient Boosting': GradientBoostingRegressor(),\n",
    "    'XGBoost': xgb.XGBRegressor(),\n",
    "    'AdaBoost': AdaBoostRegressor(),\n",
    "    'Support Vector Machine': SVR(),\n",
    "    'K-Nearest Neighbors': KNeighborsRegressor()\n",
    "}"
   ]
  },
  {
   "cell_type": "code",
   "execution_count": null,
   "id": "5bdd3ea0",
   "metadata": {
    "ExecuteTime": {
     "start_time": "2024-04-15T14:36:12.239Z"
    }
   },
   "outputs": [],
   "source": [
    "# Initialize lists to store results\n",
    "model_names = []\n",
    "r2_scores = []\n",
    "adjusted_r2_scores = []\n",
    "mae_scores = []\n",
    "rmse_scores = []\n",
    "\n",
    "# Train and evaluate each model\n",
    "for name, model in models.items():\n",
    "    # Train model\n",
    "    model.fit(X_train, y_train)\n",
    "    \n",
    "    # Predict on validation set\n",
    "    y_pred_val = model.predict(X_val)\n",
    "    \n",
    "    # Calculate evaluation metrics\n",
    "    r2 = r2_score(y_val, y_pred_val)\n",
    "    mae = mean_absolute_error(y_val, y_pred_val)\n",
    "    rmse = np.sqrt(mean_squared_error(y_val, y_pred_val))\n",
    "    n = len(X_val)\n",
    "    p = X_val.shape[1]\n",
    "    adjusted_r2 = 1 - ((1 - r2) * (n - 1) / (n - p - 1))\n",
    "    \n",
    "    # Append results to lists\n",
    "    model_names.append(name)\n",
    "    r2_scores.append(r2)\n",
    "    adjusted_r2_scores.append(adjusted_r2)\n",
    "    mae_scores.append(mae)\n",
    "    rmse_scores.append(rmse)"
   ]
  },
  {
   "cell_type": "code",
   "execution_count": null,
   "id": "13d7aec3",
   "metadata": {
    "ExecuteTime": {
     "start_time": "2024-04-15T14:36:13.244Z"
    }
   },
   "outputs": [],
   "source": [
    "results_df = pd.DataFrame({\n",
    "    'Model': model_names,\n",
    "    'R2': r2_scores,\n",
    "    'Adj R2':adjusted_r2_scores,\n",
    "    'MAE': mae_scores,\n",
    "    'RMSE': rmse_scores\n",
    "})\n",
    "results_df"
   ]
  },
  {
   "cell_type": "code",
   "execution_count": null,
   "id": "e7cf4aad",
   "metadata": {},
   "outputs": [],
   "source": []
  },
  {
   "cell_type": "code",
   "execution_count": null,
   "id": "e542f1dd",
   "metadata": {},
   "outputs": [],
   "source": []
  },
  {
   "cell_type": "code",
   "execution_count": null,
   "id": "1ed47d72",
   "metadata": {},
   "outputs": [],
   "source": []
  },
  {
   "cell_type": "code",
   "execution_count": null,
   "id": "019b5c4e",
   "metadata": {},
   "outputs": [],
   "source": []
  },
  {
   "cell_type": "code",
   "execution_count": null,
   "id": "d1079c8f",
   "metadata": {},
   "outputs": [],
   "source": []
  },
  {
   "cell_type": "code",
   "execution_count": null,
   "id": "4c4c3602",
   "metadata": {},
   "outputs": [],
   "source": []
  },
  {
   "cell_type": "code",
   "execution_count": 15,
   "id": "5fcdc8a8",
   "metadata": {
    "ExecuteTime": {
     "end_time": "2024-04-15T06:49:00.534274Z",
     "start_time": "2024-04-15T06:49:00.347207Z"
    }
   },
   "outputs": [
    {
     "data": {
      "text/html": [
       "<div>\n",
       "<style scoped>\n",
       "    .dataframe tbody tr th:only-of-type {\n",
       "        vertical-align: middle;\n",
       "    }\n",
       "\n",
       "    .dataframe tbody tr th {\n",
       "        vertical-align: top;\n",
       "    }\n",
       "\n",
       "    .dataframe thead th {\n",
       "        text-align: right;\n",
       "    }\n",
       "</style>\n",
       "<table border=\"1\" class=\"dataframe\">\n",
       "  <thead>\n",
       "    <tr style=\"text-align: right;\">\n",
       "      <th></th>\n",
       "      <th>Model</th>\n",
       "      <th>R2</th>\n",
       "      <th>MAE</th>\n",
       "      <th>RMSE</th>\n",
       "    </tr>\n",
       "  </thead>\n",
       "  <tbody>\n",
       "    <tr>\n",
       "      <th>0</th>\n",
       "      <td>Linear Regression</td>\n",
       "      <td>0.567813</td>\n",
       "      <td>3199.739289</td>\n",
       "      <td>4855.756177</td>\n",
       "    </tr>\n",
       "    <tr>\n",
       "      <th>1</th>\n",
       "      <td>Ridge Regression</td>\n",
       "      <td>0.567813</td>\n",
       "      <td>3199.733778</td>\n",
       "      <td>4855.756555</td>\n",
       "    </tr>\n",
       "    <tr>\n",
       "      <th>2</th>\n",
       "      <td>Lasso Regression</td>\n",
       "      <td>0.567810</td>\n",
       "      <td>3199.556576</td>\n",
       "      <td>4855.772436</td>\n",
       "    </tr>\n",
       "    <tr>\n",
       "      <th>3</th>\n",
       "      <td>Decision Tree</td>\n",
       "      <td>0.738970</td>\n",
       "      <td>2163.948944</td>\n",
       "      <td>3773.688313</td>\n",
       "    </tr>\n",
       "    <tr>\n",
       "      <th>4</th>\n",
       "      <td>Random Forest</td>\n",
       "      <td>0.842461</td>\n",
       "      <td>1761.914123</td>\n",
       "      <td>2931.669774</td>\n",
       "    </tr>\n",
       "    <tr>\n",
       "      <th>5</th>\n",
       "      <td>Gradient Boosting</td>\n",
       "      <td>0.825321</td>\n",
       "      <td>1905.881984</td>\n",
       "      <td>3087.033670</td>\n",
       "    </tr>\n",
       "    <tr>\n",
       "      <th>6</th>\n",
       "      <td>XGBoost</td>\n",
       "      <td>0.849078</td>\n",
       "      <td>1737.282932</td>\n",
       "      <td>2869.445960</td>\n",
       "    </tr>\n",
       "    <tr>\n",
       "      <th>7</th>\n",
       "      <td>AdaBoost</td>\n",
       "      <td>0.629479</td>\n",
       "      <td>3466.005339</td>\n",
       "      <td>4496.013748</td>\n",
       "    </tr>\n",
       "    <tr>\n",
       "      <th>8</th>\n",
       "      <td>Support Vector Machine</td>\n",
       "      <td>0.080311</td>\n",
       "      <td>4506.214451</td>\n",
       "      <td>7083.400188</td>\n",
       "    </tr>\n",
       "    <tr>\n",
       "      <th>9</th>\n",
       "      <td>K-Nearest Neighbors</td>\n",
       "      <td>0.761003</td>\n",
       "      <td>2173.571385</td>\n",
       "      <td>3610.914147</td>\n",
       "    </tr>\n",
       "  </tbody>\n",
       "</table>\n",
       "</div>"
      ],
      "text/plain": [
       "                    Model        R2          MAE         RMSE\n",
       "0       Linear Regression  0.567813  3199.739289  4855.756177\n",
       "1        Ridge Regression  0.567813  3199.733778  4855.756555\n",
       "2        Lasso Regression  0.567810  3199.556576  4855.772436\n",
       "3           Decision Tree  0.738970  2163.948944  3773.688313\n",
       "4           Random Forest  0.842461  1761.914123  2931.669774\n",
       "5       Gradient Boosting  0.825321  1905.881984  3087.033670\n",
       "6                 XGBoost  0.849078  1737.282932  2869.445960\n",
       "7                AdaBoost  0.629479  3466.005339  4496.013748\n",
       "8  Support Vector Machine  0.080311  4506.214451  7083.400188\n",
       "9     K-Nearest Neighbors  0.761003  2173.571385  3610.914147"
      ]
     },
     "execution_count": 15,
     "metadata": {},
     "output_type": "execute_result"
    }
   ],
   "source": [
    "# results_df = pd.DataFrame({\n",
    "#     'Model': model_names,\n",
    "#     'R2': r2_scores,\n",
    "#     'Adj R2':adjusted_r2_scores,\n",
    "#     'MAE': mae_scores,\n",
    "#     'RMSE': rmse_scores\n",
    "# })\n",
    "# results_df"
   ]
  },
  {
   "cell_type": "code",
   "execution_count": null,
   "id": "2213c3f4",
   "metadata": {},
   "outputs": [],
   "source": []
  },
  {
   "cell_type": "code",
   "execution_count": null,
   "id": "38924ac0",
   "metadata": {},
   "outputs": [],
   "source": []
  },
  {
   "cell_type": "code",
   "execution_count": null,
   "id": "8362420e",
   "metadata": {},
   "outputs": [],
   "source": []
  },
  {
   "cell_type": "code",
   "execution_count": 6,
   "id": "1665809f",
   "metadata": {
    "ExecuteTime": {
     "end_time": "2024-04-15T06:15:28.550093Z",
     "start_time": "2024-04-15T06:05:28.090998Z"
    }
   },
   "outputs": [
    {
     "name": "stdout",
     "output_type": "stream",
     "text": [
      "                    Model        R2          MAE         RMSE\n",
      "0       Linear Regression  0.676977  2768.401085  4197.957833\n",
      "1        Ridge Regression  0.676977  2768.398652  4197.958370\n",
      "2        Lasso Regression  0.676972  2768.291161  4197.987258\n",
      "3           Decision Tree  0.755393  2058.921616  3653.048141\n",
      "4           Random Forest  0.861642  1621.129684  2747.406871\n",
      "5       Gradient Boosting  0.837842  1806.662695  2974.337957\n",
      "6                AdaBoost  0.630332  3414.915576  4490.837747\n",
      "7  Support Vector Machine  0.149449  4482.018033  6811.950402\n",
      "8     K-Nearest Neighbors  0.733575  2272.209754  3812.487629\n"
     ]
    }
   ],
   "source": [
    "# # Initialize lists to store results\n",
    "# model_names = []\n",
    "# r2_scores = []\n",
    "# mae_scores = []\n",
    "# rmse_scores = []\n",
    "\n",
    "# # Train and evaluate each model\n",
    "# for name, model in models.items():\n",
    "#     # Train model\n",
    "#     model.fit(X_train, y_train)\n",
    "    \n",
    "#     # Predict on validation set\n",
    "#     y_pred_val = model.predict(X_val)\n",
    "    \n",
    "#     # Calculate evaluation metrics\n",
    "#     r2 = r2_score(y_val, y_pred_val)\n",
    "#     mae = mean_absolute_error(y_val, y_pred_val)\n",
    "#     rmse = np.sqrt(mean_squared_error(y_val, y_pred_val))\n",
    "    \n",
    "#     # Append results to lists\n",
    "#     model_names.append(name)\n",
    "#     r2_scores.append(r2)\n",
    "#     mae_scores.append(mae)\n",
    "#     rmse_scores.append(rmse)\n",
    "\n",
    "# # Create DataFrame to store results\n",
    "# results_df = pd.DataFrame({\n",
    "#     'Model': model_names,\n",
    "#     'R2': r2_scores,\n",
    "#     'MAE': mae_scores,\n",
    "#     'RMSE': rmse_scores\n",
    "# })\n",
    "\n",
    "# # Display results\n",
    "# print(results_df)"
   ]
  }
 ],
 "metadata": {
  "kernelspec": {
   "display_name": "Python 3 (ipykernel)",
   "language": "python",
   "name": "python3"
  },
  "language_info": {
   "codemirror_mode": {
    "name": "ipython",
    "version": 3
   },
   "file_extension": ".py",
   "mimetype": "text/x-python",
   "name": "python",
   "nbconvert_exporter": "python",
   "pygments_lexer": "ipython3",
   "version": "3.11.5"
  },
  "toc": {
   "base_numbering": 1,
   "nav_menu": {},
   "number_sections": true,
   "sideBar": true,
   "skip_h1_title": false,
   "title_cell": "Table of Contents",
   "title_sidebar": "Contents",
   "toc_cell": false,
   "toc_position": {},
   "toc_section_display": true,
   "toc_window_display": false
  },
  "varInspector": {
   "cols": {
    "lenName": 16,
    "lenType": 16,
    "lenVar": 40
   },
   "kernels_config": {
    "python": {
     "delete_cmd_postfix": "",
     "delete_cmd_prefix": "del ",
     "library": "var_list.py",
     "varRefreshCmd": "print(var_dic_list())"
    },
    "r": {
     "delete_cmd_postfix": ") ",
     "delete_cmd_prefix": "rm(",
     "library": "var_list.r",
     "varRefreshCmd": "cat(var_dic_list()) "
    }
   },
   "types_to_exclude": [
    "module",
    "function",
    "builtin_function_or_method",
    "instance",
    "_Feature"
   ],
   "window_display": false
  }
 },
 "nbformat": 4,
 "nbformat_minor": 5
}
